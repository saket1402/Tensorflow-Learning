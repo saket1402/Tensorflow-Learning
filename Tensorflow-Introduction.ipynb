{
 "cells": [
  {
   "cell_type": "markdown",
   "metadata": {},
   "source": [
    "# Variables:\n",
    "\n",
    "Variables are the containers used to store values. Variables will be used as input to several\n",
    "other operations in the computational graph. We can create TensorFlow variables using\n",
    "the tf.Variable() function. In the following example, we define a variable with values\n",
    "from a random normal distribution and name it weights:"
   ]
  },
  {
   "cell_type": "code",
   "execution_count": 3,
   "metadata": {},
   "outputs": [
    {
     "data": {
      "text/plain": [
       "<tf.Variable 'weights_2:0' shape=(3, 2) dtype=float32_ref>"
      ]
     },
     "execution_count": 3,
     "metadata": {},
     "output_type": "execute_result"
    }
   ],
   "source": [
    "import tensorflow as tf\n",
    "weights = tf.Variable(tf.random_normal([3, 2], stddev=0.1), name=\"weights\")\n",
    "weights"
   ]
  },
  {
   "cell_type": "markdown",
   "metadata": {},
   "source": [
    "# Constants:\n",
    "\n",
    "Constants, unlike variables, cannot have their values changed. Constants are immutable;\n",
    "once they are assigned values they cannot be changed throughout. We can create constants\n",
    "using the tf.constant() function:\n"
   ]
  },
  {
   "cell_type": "code",
   "execution_count": 4,
   "metadata": {},
   "outputs": [
    {
     "data": {
      "text/plain": [
       "<tf.Tensor 'Const:0' shape=() dtype=int32>"
      ]
     },
     "execution_count": 4,
     "metadata": {},
     "output_type": "execute_result"
    }
   ],
   "source": [
    "x = tf.constant(13)\n",
    "x"
   ]
  },
  {
   "cell_type": "markdown",
   "metadata": {},
   "source": [
    "# Placeholders:\n",
    "\n",
    "Think of placeholders as variables where you only define the type and dimension but will\n",
    "not assign the value. Placeholders are defined with no values. Values for the placeholders\n",
    "will be fed at runtime. Placeholders have an optional argument called shape, which\n",
    "specifies the dimensions of the data. If the shape is set to None then we can feed data of\n",
    "any size at runtime. Placeholders can be defined using the tf.placeholder() function:"
   ]
  },
  {
   "cell_type": "code",
   "execution_count": 6,
   "metadata": {},
   "outputs": [
    {
     "data": {
      "text/plain": [
       "<tf.Tensor 'Placeholder_1:0' shape=<unknown> dtype=float32>"
      ]
     },
     "execution_count": 6,
     "metadata": {},
     "output_type": "execute_result"
    }
   ],
   "source": [
    "x = tf.placeholder(\"float\", shape=None)\n",
    "x"
   ]
  },
  {
   "cell_type": "markdown",
   "metadata": {},
   "source": [
    "# Computation graph\n",
    "Everything in TensorFlow will be represented as a computational graph that consists of\n",
    "nodes and edges, where nodes are the mathematical operations, say addition,\n",
    "multiplication and so on, and edges are the tensors. Having a computational graph is very\n",
    "efficient in optimizing resources and it also promotes distributed computing."
   ]
  },
  {
   "cell_type": "markdown",
   "metadata": {},
   "source": [
    "# Direct Dependency\n",
    "Say we have node B, whose input is dependent on the output of node A; this type of\n",
    "dependency is called Direct dependency.\n",
    "For example:"
   ]
  },
  {
   "cell_type": "code",
   "execution_count": 11,
   "metadata": {},
   "outputs": [
    {
     "data": {
      "text/plain": [
       "<tf.Tensor 'Mul_9:0' shape=() dtype=int32>"
      ]
     },
     "execution_count": 11,
     "metadata": {},
     "output_type": "execute_result"
    }
   ],
   "source": [
    "A = tf.multiply(8,5)\n",
    "B = tf.multiply(A,3)\n",
    "B"
   ]
  },
  {
   "cell_type": "markdown",
   "metadata": {},
   "source": [
    "# Indirect Dependency\n",
    "When node B doesn't depend on node A for its input it is called indirect dependency.\n",
    "For example:"
   ]
  },
  {
   "cell_type": "code",
   "execution_count": 12,
   "metadata": {},
   "outputs": [
    {
     "data": {
      "text/plain": [
       "<tf.Tensor 'Mul_11:0' shape=() dtype=int32>"
      ]
     },
     "execution_count": 12,
     "metadata": {},
     "output_type": "execute_result"
    }
   ],
   "source": [
    "A = tf.multiply(8,5)\n",
    "B = tf.multiply(4,3)\n",
    "B"
   ]
  },
  {
   "cell_type": "markdown",
   "metadata": {},
   "source": [
    "# Sessions:\n",
    "\n",
    "Computation graphs will only be defined; in order to execute the computation graph, we\n",
    "use TensorFlow sessions:"
   ]
  },
  {
   "cell_type": "markdown",
   "metadata": {},
   "source": [
    "We can create the session for our computation graph using the tf.Session() method,\n",
    "which will allocate the memory for storing the current value of the variable. After creating\n",
    "the session, we can execute our graph with the sess.run() method.\n",
    "In order to run anything in TensorFlow, we need to start the TensorFlow session for an\n",
    "instance; please refer to the code:"
   ]
  },
  {
   "cell_type": "code",
   "execution_count": 14,
   "metadata": {},
   "outputs": [
    {
     "name": "stdout",
     "output_type": "stream",
     "text": [
      "Tensor(\"Mul_12:0\", shape=(), dtype=int32)\n"
     ]
    }
   ],
   "source": [
    "import tensorflow as tf\n",
    "a = tf.multiply(2,3)\n",
    "print(a)"
   ]
  },
  {
   "cell_type": "markdown",
   "metadata": {},
   "source": [
    "#### It will print a TensorFlow object instead of 6. As already said, whenever we import TensorFlow a default computation graph will automatically be created and all nodes a that we created will get attached to the graph. In order to execute the graph, we need to initialize a TensorFlow session as follows:"
   ]
  },
  {
   "cell_type": "code",
   "execution_count": 15,
   "metadata": {},
   "outputs": [
    {
     "name": "stdout",
     "output_type": "stream",
     "text": [
      "6\n"
     ]
    }
   ],
   "source": [
    "#Import tensorflow\n",
    "import tensorflow as tf\n",
    "#Initialize variables\n",
    "a = tf.multiply(2,3)\n",
    "#create tensorflow session for executing the session\n",
    "with tf.Session() as sess:\n",
    " #run the session\n",
    " print(sess.run(a))\n"
   ]
  },
  {
   "cell_type": "markdown",
   "metadata": {},
   "source": [
    "#### The above code prints  6!!!"
   ]
  },
  {
   "cell_type": "markdown",
   "metadata": {},
   "source": [
    "## Tensorboard"
   ]
  },
  {
   "cell_type": "markdown",
   "metadata": {},
   "source": [
    "TensorBoard is TensorFlow's visualization tool that can be used to visualize the\n",
    "computational graph. It can also be used to plot various quantitative metrics and the results\n",
    "of several intermediate calculations. Using TensorBoard, we can easily visualize complex\n",
    "models, which will be useful for debugging and also sharing.\n",
    "Now, let's build a basic computation graph and visualize that in TensorBoard"
   ]
  },
  {
   "cell_type": "code",
   "execution_count": 17,
   "metadata": {},
   "outputs": [],
   "source": [
    "#Intialize the variables\n",
    "a = tf.constant(5)\n",
    "b = tf.constant(4)\n",
    "c = tf.multiply(a,b)\n",
    "d = tf.constant(2)\n",
    "e = tf.constant(3)\n",
    "f = tf.multiply(d,e)\n",
    "g = tf.add(c,f)"
   ]
  },
  {
   "cell_type": "markdown",
   "metadata": {},
   "source": [
    "Now, we will create a TensorFlow session. We will write the results of our graph to a file\n",
    "called event using tf.summary.FileWriter():"
   ]
  },
  {
   "cell_type": "code",
   "execution_count": 24,
   "metadata": {},
   "outputs": [
    {
     "name": "stdout",
     "output_type": "stream",
     "text": [
      "26\n"
     ]
    }
   ],
   "source": [
    "with tf.Session() as sess:\n",
    "    writer = tf.summary.FileWriter(\"output\", sess.graph)\n",
    "    print(sess.run(g))\n",
    "    writer.close()"
   ]
  },
  {
   "cell_type": "markdown",
   "metadata": {},
   "source": [
    "#### In order to run the TensorBoard, go to your Terminal, locate the working directory, and type tensorboard --logdir=output --port=6003"
   ]
  },
  {
   "cell_type": "markdown",
   "metadata": {},
   "source": [
    "### Adding scope"
   ]
  },
  {
   "cell_type": "markdown",
   "metadata": {},
   "source": [
    "Scoping is used to reduce complexity and helps us to better understand the model by\n",
    "grouping the related nodes together. For instance, in the previous example, we can break\n",
    "down our graph into two different groups called computation and result. If you look at the\n",
    "previous example, you can see that nodes a to e perform the computation and node g\n",
    "calculates the result. So we can group them separately using the scope for easy\n",
    "understanding. Scoping can be created using the tf.name_scope() function.\n"
   ]
  },
  {
   "cell_type": "code",
   "execution_count": 23,
   "metadata": {},
   "outputs": [
    {
     "name": "stdout",
     "output_type": "stream",
     "text": [
      "26\n"
     ]
    }
   ],
   "source": [
    "import tensorflow as tf\n",
    "with tf.name_scope(\"Computation\"):\n",
    "    with tf.name_scope(\"Part1\"):\n",
    "        a = tf.constant(5)\n",
    "        b = tf.constant(4)\n",
    "        c = tf.multiply(a,b)\n",
    "    with tf.name_scope(\"Part2\"):\n",
    "        d = tf.constant(2)\n",
    "        e = tf.constant(3)\n",
    "        f = tf.multiply(d,e)\n",
    "with tf.name_scope(\"Result\"):\n",
    "    g = tf.add(c,f)\n",
    "with tf.Session() as sess:\n",
    "    writer = tf.summary.FileWriter(\"output\", sess.graph)\n",
    "    print(sess.run(g))\n",
    "    writer.close()"
   ]
  }
 ],
 "metadata": {
  "kernelspec": {
   "display_name": "Python 3",
   "language": "python",
   "name": "python3"
  },
  "language_info": {
   "codemirror_mode": {
    "name": "ipython",
    "version": 3
   },
   "file_extension": ".py",
   "mimetype": "text/x-python",
   "name": "python",
   "nbconvert_exporter": "python",
   "pygments_lexer": "ipython3",
   "version": "3.6.5"
  }
 },
 "nbformat": 4,
 "nbformat_minor": 2
}
